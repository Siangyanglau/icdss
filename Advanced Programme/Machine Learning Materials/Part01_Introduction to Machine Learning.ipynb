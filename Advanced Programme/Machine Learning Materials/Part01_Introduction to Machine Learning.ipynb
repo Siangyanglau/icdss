{
 "cells": [
  {
   "cell_type": "markdown",
   "metadata": {},
   "source": [
    "# Introduction to Machine Learning"
   ]
  },
  {
   "cell_type": "markdown",
   "metadata": {},
   "source": [
    "In this material we will be focusing on very practical hands on applications of machine learning using the [SciKit Learn](http://scikit-learn.org/stable/) module for Python.\n",
    "\n",
    "Install it using either *pip install scikit-learn* or *conda install scikit-learn* depending on your installation.\n",
    "------------"
   ]
  },
  {
   "cell_type": "markdown",
   "metadata": {},
   "source": [
    "### What you can expect to learn from the machine learning section of this course:\n",
    "\n",
    "I've geared this section of the course with one main goal in mind: you having a basic understanding of the mathematics behind some machine learning techniques and more importantly: being able to use the scikit learn library with Python to implement those techniques. \n",
    "\n",
    "Machine Learning is a very broad topic and we relistically won't be able to cover every thing, especially the higher level mathematics of some methods, but you should have enough material presented here to feel confident in your ability to look at a dataset, choose a model, and then know how to apply SciKit Learn to analyze your data.\n",
    "\n",
    "There are many free online resources to further expand your knowledge on Machine Learning. I've listed a few of the ones I personally recommend here:"
   ]
  },
  {
   "cell_type": "markdown",
   "metadata": {},
   "source": [
    "###Free Additional Online Resource for Machine Learning:\n",
    "\n",
    "1.) SciKit Learn's own Documentation is fantastic! They have their own basic tutorial:\n",
    "\n",
    "   [SciKit Learn Tutorial](http://www.astroml.org/sklearn_tutorial/general_concepts.html)\n",
    "   \n",
    "2.) Nice Introduction Overview from [Toptal](http://www.toptal.com/machine-learning/machine-learning-theory-an-introductory-primer)\n",
    "\n",
    "3.) This [free online book](http://robotics.stanford.edu/people/nilsson/MLBOOK.pdf) by Stanford professor Nils J. Nilsson.\n",
    "\n",
    "3.) Andrew Ng's Machine Learning Class\n",
    "\n",
    "[notes](http://cs229.stanford.edu/materials.html)\n",
    "\n",
    "[Coursera Video](https://www.coursera.org/learn/machine-learning)\n",
    "\n",
    "Andrew Ng's class delves very nicely into the mathematics of a lot of machine learning. They are also available on youtube for free. Note: He does not use the scikit learn library or the Python language. \n",
    "\n",
    "\n",
    "\n",
    "\n"
   ]
  },
  {
   "cell_type": "markdown",
   "metadata": {
    "collapsed": true
   },
   "source": [
    "The topics that I will cover in this set of materials including:\n",
    "\n",
    "1.) Multi-Class Classification\n",
    "2.) Decision Trees and Random Forest\n",
    "3.) Support Vector Machines\n",
    "4.) NLP (Natural Language Processing)\n",
    "\n",
    "We only cover the topics that are relevant to your data science project. If you're interested in other topics, please send me an email I can provide you with some other materials."
   ]
  }
 ],
 "metadata": {
  "kernelspec": {
   "display_name": "Python 2",
   "language": "python",
   "name": "python2"
  },
  "language_info": {
   "codemirror_mode": {
    "name": "ipython",
    "version": 2
   },
   "file_extension": ".py",
   "mimetype": "text/x-python",
   "name": "python",
   "nbconvert_exporter": "python",
   "pygments_lexer": "ipython2",
   "version": "2.7.11"
  }
 },
 "nbformat": 4,
 "nbformat_minor": 0
}
